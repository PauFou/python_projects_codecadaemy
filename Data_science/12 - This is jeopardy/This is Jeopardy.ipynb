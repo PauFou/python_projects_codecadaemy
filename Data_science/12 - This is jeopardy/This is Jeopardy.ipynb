{
 "cells": [
  {
   "cell_type": "markdown",
   "metadata": {},
   "source": [
    "# This is Jeopardy!"
   ]
  },
  {
   "cell_type": "markdown",
   "metadata": {},
   "source": [
    "#### Overview"
   ]
  },
  {
   "cell_type": "markdown",
   "metadata": {},
   "source": [
    "This project is slightly different than others you have encountered thus far. Instead of a step-by-step tutorial, this project contains a series of open-ended requirements which describe the project you'll be building. There are many possible ways to correctly fulfill all of these requirements, and you should expect to use the internet, Codecademy, and/or other resources when you encounter a problem that you cannot easily solve."
   ]
  },
  {
   "cell_type": "markdown",
   "metadata": {},
   "source": [
    "#### Project Goals"
   ]
  },
  {
   "cell_type": "markdown",
   "metadata": {},
   "source": [
    "You will work to write several functions that investigate a dataset of _Jeopardy!_ questions and answers. Filter the dataset for topics that you're interested in, compute the average difficulty of those questions, and train to become the next Jeopardy champion!"
   ]
  },
  {
   "cell_type": "markdown",
   "metadata": {},
   "source": [
    "## Prerequisites"
   ]
  },
  {
   "cell_type": "markdown",
   "metadata": {},
   "source": [
    "In order to complete this project, you should have completed the Pandas lessons in the <a href=\"https://www.codecademy.com/learn/paths/analyze-data-with-python\">Analyze Data with Python Skill Path</a>. You can also find those lessons in the <a href=\"https://www.codecademy.com/learn/data-processing-pandas\">Data Analysis with Pandas course</a> or the <a href=\"https://www.codecademy.com/learn/paths/data-science/\">Data Scientist Career Path</a>.\n",
    "\n",
    "Finally, the <a href=\"https://www.codecademy.com/learn/practical-data-cleaning\">Practical Data Cleaning</a> course may also be helpful."
   ]
  },
  {
   "cell_type": "markdown",
   "metadata": {},
   "source": [
    "## Project Requirements"
   ]
  },
  {
   "cell_type": "markdown",
   "metadata": {},
   "source": [
    "1. We've provided a csv file containing data about the game show _Jeopardy!_ in a file named `jeopardy.csv`. Load the data into a DataFrame and investigate its contents. Try to print out specific columns.\n",
    "\n",
    "   Note that in order to make this project as \"real-world\" as possible, we haven't modified the data at all - we're giving it to you exactly how we found it. As a result, this data isn't as \"clean\" as the datasets you normally find on Codecademy. More specifically, there's something odd about the column names. After you figure out the problem with the column names, you may want to rename them to make your life easier for the rest of the project.\n",
    "   \n",
    "   In order to display the full contents of a column, we've added this line of code for you:\n",
    "   \n",
    "   ```py\n",
    "   pd.set_option('display.max_colwidth', None)\n",
    "   ```"
   ]
  },
  {
   "cell_type": "code",
   "execution_count": 3,
   "metadata": {},
   "outputs": [
    {
     "name": "stdout",
     "output_type": "stream",
     "text": [
      "Index(['Show Number', ' Air Date', ' Round', ' Category', ' Value',\n",
      "       ' Question', ' Answer'],\n",
      "      dtype='object')\n",
      "Index(['Show Number', 'Air Date', 'Round', 'Category', 'Value', 'Question',\n",
      "       'Answer'],\n",
      "      dtype='object')\n"
     ]
    }
   ],
   "source": [
    "import pandas as pd\n",
    "\n",
    "pd.set_option('display.max_colwidth', None)\n",
    "\n",
    "df = pd.read_csv('jeopardy.csv')\n",
    "print(df.columns)\n",
    "df.columns = [k.strip() for k in df.columns]\n",
    "print(df.columns)"
   ]
  },
  {
   "cell_type": "markdown",
   "metadata": {},
   "source": [
    "2. Write a function that filters the dataset for questions that contains all of the words in a list of words. For example, when the list `[\"King\", \"England\"]` was passed to our function, the function returned a DataFrame of 49 rows. Every row had the strings `\"King\"` and `\"England\"` somewhere in its `\" Question\"`.\n",
    "\n",
    "   Test your function by printing out the column containing the question of each row of the dataset."
   ]
  },
  {
   "cell_type": "code",
   "execution_count": null,
   "metadata": {},
   "outputs": [],
   "source": []
  },
  {
   "cell_type": "code",
   "execution_count": 4,
   "metadata": {},
   "outputs": [
    {
     "name": "stdout",
     "output_type": "stream",
     "text": [
      "       Show Number    Air Date             Round          Category  Value  \\\n",
      "4953          3003  1997-09-24  Double Jeopardy!      \"PH\"UN WORDS   $200   \n",
      "14912         2832  1996-12-17         Jeopardy!     WORLD HISTORY   $100   \n",
      "21511         4650  2004-11-19         Jeopardy!        THE \"O.C.\"  $1000   \n",
      "23810         4862  2005-11-01         Jeopardy!     NAME THE YEAR   $400   \n",
      "27555         1799  1992-05-28  Double Jeopardy!  HISTORIC IN-LAWS   $600   \n",
      "\n",
      "                                                                                                   Question  \\\n",
      "4953               Both England's King George V & FDR put their stamp of approval on this \"King of Hobbies\"   \n",
      "14912     This country's King Louis IV was nicknamed \"Louis From Overseas\" because he was raised in England   \n",
      "21511                          this man and his son ruled England following the execution of King Charles I   \n",
      "23810  William the Conqueror was crowned King of England in Westminster Abbey on Christmas Day in this year   \n",
      "27555                    This member of the Medici family was the mother-in-law of England's King Charles I   \n",
      "\n",
      "                             Answer  \n",
      "4953   Philately (stamp collecting)  \n",
      "14912                        France  \n",
      "21511               Oliver Cromwell  \n",
      "23810                          1066  \n",
      "27555               Marie de Medici  \n"
     ]
    }
   ],
   "source": [
    "def contains_words(dataframe, array):\n",
    "    # check_question = lambda x: all(x in array for x in array)\n",
    "    filter = lambda x: all(word in x for word in array)\n",
    "    return dataframe.loc[dataframe[\"Question\"].apply(filter)]\n",
    "print(contains_words(df, [\"King\", \"England\"]).head(5))"
   ]
  },
  {
   "cell_type": "markdown",
   "metadata": {},
   "source": [
    "3. Test your original function with a few different sets of words to try to find some ways your function breaks. Edit your function so it is more robust.\n",
    "\n",
    "   For example, think about capitalization. We probably want to find questions that contain the word `\"King\"` or `\"king\"`.\n",
    "   \n",
    "   You may also want to check to make sure you don't find rows that contain substrings of your given words. For example, our function found a question that didn't contain the word `\"king\"`, however it did contain the word `\"viking\"` &mdash; it found the `\"king\"` inside `\"viking\"`. Note that this also comes with some drawbacks &mdash; you would no longer find questions that contained words like `\"England's\"`."
   ]
  },
  {
   "cell_type": "code",
   "execution_count": 5,
   "metadata": {},
   "outputs": [
    {
     "name": "stdout",
     "output_type": "stream",
     "text": [
      "       Show Number    Air Date             Round                Category  \\\n",
      "6337          3517  1999-12-14  Double Jeopardy!                     Y1K   \n",
      "9191          3907  2001-09-04  Double Jeopardy!          WON THE BATTLE   \n",
      "13454         4726  2005-03-07         Jeopardy!   A NUMBER FROM 1 TO 10   \n",
      "18076         3227  1998-09-22  Double Jeopardy!           WORLD HISTORY   \n",
      "19168         3109  1998-02-19         Jeopardy!  HISTORIC WORLD LEADERS   \n",
      "\n",
      "       Value  \\\n",
      "6337    $800   \n",
      "9191    $800   \n",
      "13454  $1000   \n",
      "18076  $1000   \n",
      "19168   $300   \n",
      "\n",
      "                                                                                                     Question  \\\n",
      "6337   In retaliation for Viking raids, this \"Unready\" king of England attacks Norse areas of the Isle of Man   \n",
      "9191                 This king of England beat the odds to trounce the French in the 1415 Battle of Agincourt   \n",
      "13454                                    It's the number that followed the last king of England named William   \n",
      "18076         In 1199 this crusader king of England was mortally wounded while besieging the castle of Chalus   \n",
      "19168                               He was the only king of England to have \"The Great\" tacked on to his name   \n",
      "\n",
      "                        Answer  \n",
      "6337                  Ethelred  \n",
      "9191                   Henry V  \n",
      "13454                        4  \n",
      "18076  Richard the Lionhearted  \n",
      "19168                   Alfred  \n"
     ]
    }
   ],
   "source": [
    "def contains_wordsV2(dataframe, array):\n",
    "    # check_question = lambda x: all(x in array for x in array)\n",
    "    liste = list(map(str.lower,array))\n",
    "    filtere = lambda x: all(f\" {word} \" in x.lower() for word in liste)\n",
    "    return dataframe.loc[dataframe[\"Question\"].apply(filtere)]\n",
    "print(contains_wordsV2(df, [\"King\", \"England\"]).head(5))"
   ]
  },
  {
   "cell_type": "markdown",
   "metadata": {},
   "source": [
    "4. We may want to eventually compute aggregate statistics, like `.mean()` on the `\" Value\"` column. But right now, the values in that column are strings. Convert the`\" Value\"` column to floats. If you'd like to, you can create a new column with float values.\n",
    "\n",
    "   Now that you can filter the dataset of question, use your new column that contains the float values of each question to find the \"difficulty\" of certain topics. For example, what is the average value of questions that contain the word `\"King\"`?\n",
    "   \n",
    "   Make sure to use the dataset that contains the float values as the dataset you use in your filtering function."
   ]
  },
  {
   "cell_type": "code",
   "execution_count": 56,
   "metadata": {},
   "outputs": [],
   "source": [
    "def convert(x):\n",
    "    try: \n",
    "        return float(x[1:].replace(\",\", \".\")) \n",
    "    except ValueError: \n",
    "        if x == \"one\":\n",
    "            return 1.00\n",
    "        elif x == \"two\":\n",
    "            return 2.00\n",
    "        elif x == \"three\":\n",
    "            return 3.00\n",
    "        else:\n",
    "            return 0.00\n",
    "\n",
    "testo = lambda x: convert(x)\n",
    "df[\"New_Value\"] = df[\"Value\"].apply(testo)\n",
    "\n",
    "df[\"Year\"] = df[\"Air Date\"].apply(lambda x: int(x[:4]))"
   ]
  },
  {
   "cell_type": "markdown",
   "metadata": {},
   "source": [
    "5. Write a function that returns the count of unique answers to all of the questions in a dataset. For example, after filtering the entire dataset to only questions containing the word `\"King\"`, we could then find all of the unique answers to those questions. The answer \"Henry VIII\" appeared 55 times and was the most common answer."
   ]
  },
  {
   "cell_type": "code",
   "execution_count": 57,
   "metadata": {},
   "outputs": [
    {
     "name": "stdout",
     "output_type": "stream",
     "text": [
      "Henry VIII                           31\n",
      "Richard III                          20\n",
      "Sweden                               18\n",
      "Norway                               18\n",
      "Solomon                              17\n",
      "                                     ..\n",
      "Bad, Bad Leroy Brown                  1\n",
      "Elephants                             1\n",
      "Deborah Kerr                          1\n",
      "Ruritania                             1\n",
      "a pyramid (the pyramids accepted)     1\n",
      "Name: Answer, Length: 1040, dtype: int64\n"
     ]
    }
   ],
   "source": [
    "def what_is_the_answer(dataframe, words):\n",
    "    selection =  contains_wordsV2(dataframe, words)\n",
    "    return selection[\"Answer\"].value_counts()\n",
    "print(what_is_the_answer(df, [\"King\"]))"
   ]
  },
  {
   "cell_type": "markdown",
   "metadata": {},
   "source": [
    "6. Explore from here! This is an incredibly rich dataset, and there are so many interesting things to discover. There are a few columns that we haven't even started looking at yet. Here are some ideas on ways to continue working with this data:\n",
    "\n",
    " * Investigate the ways in which questions change over time by filtering by the date. How many questions from the 90s use the word `\"Computer\"` compared to questions from the 2000s?"
   ]
  },
  {
   "cell_type": "code",
   "execution_count": 68,
   "metadata": {},
   "outputs": [],
   "source": [
    "computer_question = contains_wordsV2(df, [\"computer\"])\n",
    "computer_question_before_90s = len(computer_question.loc[(computer_question[\"Year\"] >= 1990) & (computer_question[\"Year\"] < 2000)])\n",
    "computer_question_after_90s = len(computer_question.loc[(computer_question[\"Year\"] >= 2000) & (computer_question[\"Year\"] < 2010)])"
   ]
  },
  {
   "cell_type": "code",
   "execution_count": 70,
   "metadata": {},
   "outputs": [
    {
     "name": "stdout",
     "output_type": "stream",
     "text": [
      "There were 57 questions with the word computer in the 1990s compared to 167 in the 2000s\n"
     ]
    }
   ],
   "source": [
    "print(f\"There were {computer_question_before_90s} questions with the word computer in the 1990s compared to {computer_question_after_90s} in the 2000s\")"
   ]
  }
 ],
 "metadata": {
  "kernelspec": {
   "display_name": "Python 3.9.12",
   "language": "python",
   "name": "python3"
  },
  "language_info": {
   "codemirror_mode": {
    "name": "ipython",
    "version": 3
   },
   "file_extension": ".py",
   "mimetype": "text/x-python",
   "name": "python",
   "nbconvert_exporter": "python",
   "pygments_lexer": "ipython3",
   "version": "3.9.12"
  },
  "vscode": {
   "interpreter": {
    "hash": "38cca0c38332a56087b24af0bc80247f4fced29cb4f7f437d91dc159adec9c4e"
   }
  }
 },
 "nbformat": 4,
 "nbformat_minor": 2
}
