{
 "cells": [
  {
   "cell_type": "markdown",
   "metadata": {},
   "source": [
    "# A/B Testing for ShoeFly.com\n",
    "\n",
    "Our favorite online shoe store, ShoeFly.com is performing an A/B Test. They have two different versions of an ad, which they have placed in emails, as well as in banner ads on Facebook, Twitter, and Google. They want to know how the two ads are performing on each of the different platforms on each day of the week. Help them analyze the data using aggregate measures\n"
   ]
  },
  {
   "cell_type": "markdown",
   "metadata": {},
   "source": []
  },
  {
   "cell_type": "code",
   "execution_count": 2,
   "metadata": {},
   "outputs": [],
   "source": [
    "import pandas as pd"
   ]
  },
  {
   "cell_type": "markdown",
   "metadata": {},
   "source": [
    "### 1. Examine the first few rows of ad_clicks."
   ]
  },
  {
   "cell_type": "code",
   "execution_count": 6,
   "metadata": {},
   "outputs": [
    {
     "name": "stdout",
     "output_type": "stream",
     "text": [
      "                                user_id utm_source           day  \\\n",
      "0  008b7c6c-7272-471e-b90e-930d548bd8d7     google  6 - Saturday   \n",
      "1  009abb94-5e14-4b6c-bb1c-4f4df7aa7557   facebook    7 - Sunday   \n",
      "2  00f5d532-ed58-4570-b6d2-768df5f41aed    twitter   2 - Tuesday   \n",
      "3  011adc64-0f44-4fd9-a0bb-f1506d2ad439     google   2 - Tuesday   \n",
      "4  012137e6-7ae7-4649-af68-205b4702169c   facebook    7 - Sunday   \n",
      "\n",
      "  ad_click_timestamp experimental_group  \n",
      "0               7:18                  A  \n",
      "1                NaN                  B  \n",
      "2                NaN                  A  \n",
      "3                NaN                  B  \n",
      "4                NaN                  B  \n"
     ]
    }
   ],
   "source": [
    "ad_clicks = pd.read_csv('ad_clicks.csv')\n",
    "\n",
    "print(ad_clicks.head(5))"
   ]
  },
  {
   "cell_type": "markdown",
   "metadata": {},
   "source": [
    "### 2. Your manager wants to know which ad platform is getting you the most views.\n",
    "\n",
    "### How many views (i.e., rows of the table) came from each utm_source?"
   ]
  },
  {
   "cell_type": "code",
   "execution_count": 7,
   "metadata": {},
   "outputs": [
    {
     "name": "stdout",
     "output_type": "stream",
     "text": [
      "  utm_source  count\n",
      "0      email    255\n",
      "1   facebook    504\n",
      "2     google    680\n",
      "3    twitter    215\n"
     ]
    }
   ],
   "source": [
    "utm_source_count = ad_clicks.groupby('utm_source').user_id.count().reset_index()\n",
    "utm_source_count.columns = [\"utm_source\", \"count\"]\n",
    "\n",
    "print(utm_source_count)"
   ]
  },
  {
   "cell_type": "markdown",
   "metadata": {},
   "source": [
    "### 3. If the column ad_click_timestamp is not null, then someone actually clicked on the ad that was displayed.\n",
    "\n",
    "### Create a new column called is_click, which is True if ad_click_timestamp is not null and False otherwise."
   ]
  },
  {
   "cell_type": "code",
   "execution_count": 9,
   "metadata": {},
   "outputs": [
    {
     "name": "stdout",
     "output_type": "stream",
     "text": [
      "                                user_id utm_source           day  \\\n",
      "0  008b7c6c-7272-471e-b90e-930d548bd8d7     google  6 - Saturday   \n",
      "1  009abb94-5e14-4b6c-bb1c-4f4df7aa7557   facebook    7 - Sunday   \n",
      "2  00f5d532-ed58-4570-b6d2-768df5f41aed    twitter   2 - Tuesday   \n",
      "3  011adc64-0f44-4fd9-a0bb-f1506d2ad439     google   2 - Tuesday   \n",
      "4  012137e6-7ae7-4649-af68-205b4702169c   facebook    7 - Sunday   \n",
      "\n",
      "  ad_click_timestamp experimental_group  is_click  \n",
      "0               7:18                  A      True  \n",
      "1                NaN                  B     False  \n",
      "2                NaN                  A     False  \n",
      "3                NaN                  B     False  \n",
      "4                NaN                  B     False  \n"
     ]
    }
   ],
   "source": [
    "ad_clicks[\"is_click\"] = ad_clicks.ad_click_timestamp.apply(lambda x: isinstance(x, str))\n",
    "\n",
    "print(ad_clicks.head(5))"
   ]
  },
  {
   "cell_type": "markdown",
   "metadata": {},
   "source": [
    "### 4. We want to know the percent of people who clicked on ads from each utm_source.\n",
    "\n",
    "### Start by grouping by utm_source and is_click and counting the number of user_id‘s in each of those groups. Save your answer to the variable clicks_by_source."
   ]
  },
  {
   "cell_type": "code",
   "execution_count": 11,
   "metadata": {},
   "outputs": [
    {
     "name": "stdout",
     "output_type": "stream",
     "text": [
      "  utm_source  is_click  user_id\n",
      "0      email     False      175\n",
      "1      email      True       80\n",
      "2   facebook     False      324\n",
      "3   facebook      True      180\n",
      "4     google     False      441\n"
     ]
    }
   ],
   "source": [
    "clicks_by_source = ad_clicks.groupby(['utm_source', 'is_click']).user_id.count().reset_index()\n",
    "\n",
    "print(clicks_by_source.head(5))"
   ]
  },
  {
   "cell_type": "markdown",
   "metadata": {},
   "source": [
    "### 5. Now let’s pivot the data so that the columns are is_click (either True or False), the index is utm_source, and the values are user_id.\n",
    "\n",
    "### Save your results to the variable clicks_pivot."
   ]
  },
  {
   "cell_type": "code",
   "execution_count": 12,
   "metadata": {},
   "outputs": [
    {
     "name": "stdout",
     "output_type": "stream",
     "text": [
      "is_click    False  True\n",
      "utm_source             \n",
      "email         175    80\n",
      "facebook      324   180\n",
      "google        441   239\n",
      "twitter       149    66\n"
     ]
    }
   ],
   "source": [
    "clicks_pivot = clicks_by_source.pivot(\n",
    "  columns='is_click',\n",
    "  index='utm_source',\n",
    "  values='user_id'\n",
    ")\n",
    "print(clicks_pivot.head(5))"
   ]
  },
  {
   "cell_type": "markdown",
   "metadata": {},
   "source": [
    "### 6. Create a new column in clicks_pivot called percent_clicked which is equal to the percent of users who clicked on the ad from each utm_source.\n",
    "\n",
    "### Was there a difference in click rates for each source?"
   ]
  },
  {
   "cell_type": "code",
   "execution_count": 13,
   "metadata": {},
   "outputs": [
    {
     "name": "stdout",
     "output_type": "stream",
     "text": [
      "is_click    False  True  percent_clicked\n",
      "utm_source                              \n",
      "email         175    80             0.31\n",
      "facebook      324   180             0.36\n",
      "google        441   239             0.35\n",
      "twitter       149    66             0.31\n"
     ]
    }
   ],
   "source": [
    "clicks_pivot[\"percent_clicked\"] = clicks_pivot.apply(lambda row: round(row[True] / (row[False] + row[True]), 2), axis=1) \n",
    "\n",
    "print(clicks_pivot.head(5))"
   ]
  },
  {
   "cell_type": "markdown",
   "metadata": {},
   "source": [
    "### 7. The column experimental_group tells us whether the user was shown Ad A or Ad B.\n",
    "\n",
    "### Were approximately the same number of people shown both ads?"
   ]
  },
  {
   "cell_type": "code",
   "execution_count": 14,
   "metadata": {},
   "outputs": [
    {
     "name": "stdout",
     "output_type": "stream",
     "text": [
      "  experimental_group  user_id\n",
      "0                  A      827\n",
      "1                  B      827\n"
     ]
    }
   ],
   "source": [
    "a_b_testing = ad_clicks.groupby('experimental_group').user_id.count().reset_index()\n",
    "\n",
    "print(a_b_testing)"
   ]
  },
  {
   "cell_type": "markdown",
   "metadata": {},
   "source": [
    "### 8. Using the column is_click that we defined earlier, check to see if a greater percentage of users clicked on Ad A or Ad B."
   ]
  },
  {
   "cell_type": "code",
   "execution_count": 15,
   "metadata": {},
   "outputs": [
    {
     "name": "stdout",
     "output_type": "stream",
     "text": [
      "experimental_group  is_click    A    B\n",
      "0                      False  517  572\n",
      "1                       True  310  255\n"
     ]
    }
   ],
   "source": [
    "a_b_testing_advanced = ad_clicks.groupby([\"experimental_group\", \"is_click\"]).user_id.count().reset_index()\n",
    "\n",
    "a_b_testing_advanced_pivot = a_b_testing_advanced.pivot(\n",
    "  columns=\"experimental_group\",\n",
    "  index=\"is_click\",\n",
    "  values=\"user_id\"\n",
    ").reset_index()\n",
    "\n",
    "print(a_b_testing_advanced_pivot)"
   ]
  },
  {
   "cell_type": "markdown",
   "metadata": {},
   "source": [
    "### 9. The Product Manager for the A/B test thinks that the clicks might have changed by day of the week.\n",
    "\n",
    "### Start by creating two DataFrames: a_clicks and b_clicks, which contain only the results for A group and B group, respectively."
   ]
  },
  {
   "cell_type": "code",
   "execution_count": 19,
   "metadata": {},
   "outputs": [
    {
     "name": "stdout",
     "output_type": "stream",
     "text": [
      "                                   user_id utm_source            day  \\\n",
      "1     009abb94-5e14-4b6c-bb1c-4f4df7aa7557   facebook     7 - Sunday   \n",
      "3     011adc64-0f44-4fd9-a0bb-f1506d2ad439     google    2 - Tuesday   \n",
      "4     012137e6-7ae7-4649-af68-205b4702169c   facebook     7 - Sunday   \n",
      "9     01a210c3-fde0-4e6f-8efd-4f0e38730ae6      email    2 - Tuesday   \n",
      "10    01adb2e7-f711-4ae4-a7c6-29f48457eea1     google  3 - Wednesday   \n",
      "...                                    ...        ...            ...   \n",
      "1645  fd2a5852-f0ef-4162-84a6-107a42dc46b5    twitter  3 - Wednesday   \n",
      "1648  fe6cfa5a-cc63-4770-8d56-c13ac8cf5bef     google  3 - Wednesday   \n",
      "1650  fed3db6d-8c92-40e3-a4fb-1fb9d7337eb1   facebook     5 - Friday   \n",
      "1651  ff3a22ff-521c-478c-87ca-7dc7b8f34372    twitter  3 - Wednesday   \n",
      "1653  ffdfe7ec-0c74-4623-8d90-d95d80f1ba34   facebook   6 - Saturday   \n",
      "\n",
      "     ad_click_timestamp experimental_group  is_click  \n",
      "1                   NaN                  B     False  \n",
      "3                   NaN                  B     False  \n",
      "4                   NaN                  B     False  \n",
      "9                 15:21                  B      True  \n",
      "10                  NaN                  B     False  \n",
      "...                 ...                ...       ...  \n",
      "1645                NaN                  B     False  \n",
      "1648               15:6                  B      True  \n",
      "1650                NaN                  B     False  \n",
      "1651                NaN                  B     False  \n",
      "1653                NaN                  B     False  \n",
      "\n",
      "[827 rows x 6 columns]\n",
      "                                   user_id utm_source            day  \\\n",
      "0     008b7c6c-7272-471e-b90e-930d548bd8d7     google   6 - Saturday   \n",
      "2     00f5d532-ed58-4570-b6d2-768df5f41aed    twitter    2 - Tuesday   \n",
      "5     013b0072-7b72-40e7-b698-98b4d0c9967f   facebook     1 - Monday   \n",
      "6     0153d85b-7660-4c39-92eb-1e1acd023280     google   4 - Thursday   \n",
      "7     01555297-d6e6-49ae-aeba-1b196fdbb09f     google  3 - Wednesday   \n",
      "...                                    ...        ...            ...   \n",
      "1643  fceb13ea-fd8c-446a-a61f-f977d404330a    twitter   6 - Saturday   \n",
      "1646  fd7d06ea-38b5-4ed9-acc9-777047db8c56     google   4 - Thursday   \n",
      "1647  fe570a20-448f-40ed-930b-8482b8a7c231   facebook     1 - Monday   \n",
      "1649  fe8b5236-78f6-4192-9da6-a76bba67cfe6    twitter     7 - Sunday   \n",
      "1652  ff3af0d6-b092-4c4d-9f2e-2bdd8f7c0732     google     1 - Monday   \n",
      "\n",
      "     ad_click_timestamp experimental_group  is_click  \n",
      "0                  7:18                  A      True  \n",
      "2                   NaN                  A     False  \n",
      "5                   NaN                  A     False  \n",
      "6                   NaN                  A     False  \n",
      "7                   NaN                  A     False  \n",
      "...                 ...                ...       ...  \n",
      "1643                NaN                  A     False  \n",
      "1646                NaN                  A     False  \n",
      "1647               20:7                  A      True  \n",
      "1649                NaN                  A     False  \n",
      "1652              22:57                  A      True  \n",
      "\n",
      "[827 rows x 6 columns]\n"
     ]
    }
   ],
   "source": [
    "b_clicks = ad_clicks[ad_clicks.experimental_group == 'B']\n",
    "\n",
    "a_clicks = ad_clicks[ad_clicks.experimental_group == 'A']\n",
    "\n",
    "print(b_clicks)\n",
    "\n",
    "print(a_clicks)"
   ]
  },
  {
   "cell_type": "markdown",
   "metadata": {},
   "source": [
    "### 10. For each group (a_clicks and b_clicks), calculate the percent of users who clicked on the ad by day."
   ]
  },
  {
   "cell_type": "code",
   "execution_count": 23,
   "metadata": {},
   "outputs": [
    {
     "name": "stdout",
     "output_type": "stream",
     "text": [
      "is_click            day  False  True  percentage\n",
      "0            1 - Monday     70    43        0.38\n",
      "1           2 - Tuesday     76    43        0.36\n",
      "2         3 - Wednesday     86    38        0.31\n",
      "3          4 - Thursday     69    47        0.41\n",
      "4            5 - Friday     77    51        0.40\n",
      "5          6 - Saturday     73    45        0.38\n",
      "6            7 - Sunday     66    43        0.39\n",
      "is_click            day  False  True  percentage\n",
      "0            1 - Monday     81    32        0.28\n",
      "1           2 - Tuesday     74    45        0.38\n",
      "2         3 - Wednesday     89    35        0.28\n",
      "3          4 - Thursday     87    29        0.25\n",
      "4            5 - Friday     90    38        0.30\n",
      "5          6 - Saturday     76    42        0.36\n",
      "6            7 - Sunday     75    34        0.31\n"
     ]
    }
   ],
   "source": [
    "b_clicks_groupe = b_clicks.groupby(['is_click', 'day']).user_id.count().reset_index()\n",
    "\n",
    "a_clicks_groupe = a_clicks.groupby(['is_click', 'day']).user_id.count().reset_index()\n",
    "\n",
    "b_clicks_groupe_pivot = b_clicks_groupe.pivot(\n",
    "  columns=\"is_click\",\n",
    "  index=\"day\",\n",
    "  values=\"user_id\"\n",
    ").reset_index()\n",
    "\n",
    "a_clicks_groupe_pivot = a_clicks_groupe.pivot(\n",
    "  columns=\"is_click\",\n",
    "  index=\"day\",\n",
    "  values=\"user_id\"\n",
    ").reset_index()\n",
    "\n",
    "a_clicks_groupe_pivot[\"percentage\"] = a_clicks_groupe_pivot.apply(lambda row: round(row[True] / (row[False] + row[True]), 2), axis = 1)\n",
    "b_clicks_groupe_pivot[\"percentage\"] = b_clicks_groupe_pivot.apply(lambda row: round(row[True] / (row[False] + row[True]), 2), axis = 1)\n",
    "\n",
    "\n",
    "print(a_clicks_groupe_pivot)\n",
    "print(b_clicks_groupe_pivot)"
   ]
  },
  {
   "cell_type": "markdown",
   "metadata": {},
   "source": [
    "### 11. Compare the results for A and B. What happened over the course of the week?\n",
    "\n",
    "#### Do you recommend that your company use Ad A or Ad B?"
   ]
  },
  {
   "cell_type": "code",
   "execution_count": 24,
   "metadata": {},
   "outputs": [
    {
     "name": "stdout",
     "output_type": "stream",
     "text": [
      "The company should use the A ad wich is better every days of the week\n"
     ]
    }
   ],
   "source": [
    "print(\"The company should use the A ad wich is better every days of the week\")"
   ]
  }
 ],
 "metadata": {
  "kernelspec": {
   "display_name": "Python 3.9.12",
   "language": "python",
   "name": "python3"
  },
  "language_info": {
   "codemirror_mode": {
    "name": "ipython",
    "version": 3
   },
   "file_extension": ".py",
   "mimetype": "text/x-python",
   "name": "python",
   "nbconvert_exporter": "python",
   "pygments_lexer": "ipython3",
   "version": "3.9.12"
  },
  "orig_nbformat": 4,
  "vscode": {
   "interpreter": {
    "hash": "38cca0c38332a56087b24af0bc80247f4fced29cb4f7f437d91dc159adec9c4e"
   }
  }
 },
 "nbformat": 4,
 "nbformat_minor": 2
}
